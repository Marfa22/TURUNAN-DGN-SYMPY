{
 "cells": [
  {
   "cell_type": "code",
   "execution_count": 2,
   "metadata": {},
   "outputs": [],
   "source": [
    "import sympy as smp\n",
    "from sympy import *"
   ]
  },
  {
   "cell_type": "code",
   "execution_count": 3,
   "metadata": {},
   "outputs": [],
   "source": [
    "x = smp.symbols ('x')"
   ]
  },
  {
   "cell_type": "code",
   "execution_count": 15,
   "metadata": {},
   "outputs": [
    {
     "data": {
      "text/latex": [
       "$\\displaystyle x^{2} - \\sec{\\left(x \\right)} + 1$"
      ],
      "text/plain": [
       "x**2 - sec(x) + 1"
      ]
     },
     "execution_count": 15,
     "metadata": {},
     "output_type": "execute_result"
    }
   ],
   "source": [
    "x**2-sec(x)+1"
   ]
  },
  {
   "cell_type": "code",
   "execution_count": 16,
   "metadata": {},
   "outputs": [
    {
     "data": {
      "text/latex": [
       "$\\displaystyle 2 x - \\tan{\\left(x \\right)} \\sec{\\left(x \\right)}$"
      ],
      "text/plain": [
       "2*x - tan(x)*sec(x)"
      ]
     },
     "execution_count": 16,
     "metadata": {},
     "output_type": "execute_result"
    }
   ],
   "source": [
    "smp.diff(x**2-sec(x)+1)"
   ]
  },
  {
   "cell_type": "code",
   "execution_count": 17,
   "metadata": {},
   "outputs": [
    {
     "data": {
      "text/latex": [
       "$\\displaystyle 3 \\csc{\\left(x \\right)} + \\frac{5}{x}$"
      ],
      "text/plain": [
       "3*csc(x) + 5/x"
      ]
     },
     "execution_count": 17,
     "metadata": {},
     "output_type": "execute_result"
    }
   ],
   "source": [
    "3*csc(x)+5/x"
   ]
  },
  {
   "cell_type": "code",
   "execution_count": 18,
   "metadata": {},
   "outputs": [
    {
     "data": {
      "text/latex": [
       "$\\displaystyle - 3 \\cot{\\left(x \\right)} \\csc{\\left(x \\right)} - \\frac{5}{x^{2}}$"
      ],
      "text/plain": [
       "-3*cot(x)*csc(x) - 5/x**2"
      ]
     },
     "execution_count": 18,
     "metadata": {},
     "output_type": "execute_result"
    }
   ],
   "source": [
    "smp.diff(3*csc(x)+5/x)"
   ]
  },
  {
   "cell_type": "code",
   "execution_count": 20,
   "metadata": {},
   "outputs": [
    {
     "data": {
      "text/latex": [
       "$\\displaystyle x^{2} \\cot{\\left(x \\right)}$"
      ],
      "text/plain": [
       "x**2*cot(x)"
      ]
     },
     "execution_count": 20,
     "metadata": {},
     "output_type": "execute_result"
    }
   ],
   "source": [
    "x**2*cot(x)"
   ]
  },
  {
   "cell_type": "code",
   "execution_count": 21,
   "metadata": {},
   "outputs": [
    {
     "data": {
      "text/latex": [
       "$\\displaystyle x^{2} \\left(- \\cot^{2}{\\left(x \\right)} - 1\\right) + 2 x \\cot{\\left(x \\right)}$"
      ],
      "text/plain": [
       "x**2*(-cot(x)**2 - 1) + 2*x*cot(x)"
      ]
     },
     "execution_count": 21,
     "metadata": {},
     "output_type": "execute_result"
    }
   ],
   "source": [
    "smp.diff(x**2*cot(x))"
   ]
  },
  {
   "cell_type": "code",
   "execution_count": 23,
   "metadata": {},
   "outputs": [
    {
     "data": {
      "text/latex": [
       "$\\displaystyle - x^{3} \\sin{\\left(x \\right)} + x$"
      ],
      "text/plain": [
       "-x**3*sin(x) + x"
      ]
     },
     "execution_count": 23,
     "metadata": {},
     "output_type": "execute_result"
    }
   ],
   "source": [
    "x-x**3*sin(x)"
   ]
  },
  {
   "cell_type": "code",
   "execution_count": 24,
   "metadata": {},
   "outputs": [
    {
     "data": {
      "text/latex": [
       "$\\displaystyle - x^{3} \\cos{\\left(x \\right)} - 3 x^{2} \\sin{\\left(x \\right)} + 1$"
      ],
      "text/plain": [
       "-x**3*cos(x) - 3*x**2*sin(x) + 1"
      ]
     },
     "execution_count": 24,
     "metadata": {},
     "output_type": "execute_result"
    }
   ],
   "source": [
    "smp.diff(x-x**3*sin(x))"
   ]
  },
  {
   "cell_type": "code",
   "execution_count": 25,
   "metadata": {},
   "outputs": [
    {
     "data": {
      "text/latex": [
       "$\\displaystyle \\frac{\\sec{\\left(x \\right)}}{x}$"
      ],
      "text/plain": [
       "sec(x)/x"
      ]
     },
     "execution_count": 25,
     "metadata": {},
     "output_type": "execute_result"
    }
   ],
   "source": [
    "sec(x)/x"
   ]
  },
  {
   "cell_type": "code",
   "execution_count": 26,
   "metadata": {},
   "outputs": [
    {
     "data": {
      "text/latex": [
       "$\\displaystyle \\frac{\\tan{\\left(x \\right)} \\sec{\\left(x \\right)}}{x} - \\frac{\\sec{\\left(x \\right)}}{x^{2}}$"
      ],
      "text/plain": [
       "tan(x)*sec(x)/x - sec(x)/x**2"
      ]
     },
     "execution_count": 26,
     "metadata": {},
     "output_type": "execute_result"
    }
   ],
   "source": [
    "smp.diff(sec(x)/x)"
   ]
  },
  {
   "cell_type": "code",
   "execution_count": 27,
   "metadata": {},
   "outputs": [
    {
     "data": {
      "text/latex": [
       "$\\displaystyle \\sin{\\left(x \\right)} \\tan{\\left(x \\right)}$"
      ],
      "text/plain": [
       "sin(x)*tan(x)"
      ]
     },
     "execution_count": 27,
     "metadata": {},
     "output_type": "execute_result"
    }
   ],
   "source": [
    "sin(x)*tan(x)"
   ]
  },
  {
   "cell_type": "code",
   "execution_count": 28,
   "metadata": {},
   "outputs": [
    {
     "data": {
      "text/latex": [
       "$\\displaystyle \\left(\\tan^{2}{\\left(x \\right)} + 1\\right) \\sin{\\left(x \\right)} + \\cos{\\left(x \\right)} \\tan{\\left(x \\right)}$"
      ],
      "text/plain": [
       "(tan(x)**2 + 1)*sin(x) + cos(x)*tan(x)"
      ]
     },
     "execution_count": 28,
     "metadata": {},
     "output_type": "execute_result"
    }
   ],
   "source": [
    "smp.diff(sin(x)*tan(x))"
   ]
  },
  {
   "cell_type": "code",
   "execution_count": 29,
   "metadata": {},
   "outputs": [
    {
     "data": {
      "text/latex": [
       "$\\displaystyle \\left(1 - \\sin{\\left(x \\right)}\\right) \\left(x + \\cos{\\left(x \\right)}\\right)$"
      ],
      "text/plain": [
       "(1 - sin(x))*(x + cos(x))"
      ]
     },
     "execution_count": 29,
     "metadata": {},
     "output_type": "execute_result"
    }
   ],
   "source": [
    "(x+cos(x))*(1-sin(x))"
   ]
  },
  {
   "cell_type": "code",
   "execution_count": 30,
   "metadata": {},
   "outputs": [
    {
     "data": {
      "text/latex": [
       "$\\displaystyle \\left(1 - \\sin{\\left(x \\right)}\\right)^{2} - \\left(x + \\cos{\\left(x \\right)}\\right) \\cos{\\left(x \\right)}$"
      ],
      "text/plain": [
       "(1 - sin(x))**2 - (x + cos(x))*cos(x)"
      ]
     },
     "execution_count": 30,
     "metadata": {},
     "output_type": "execute_result"
    }
   ],
   "source": [
    "smp.diff((x+cos(x))*(1-sin(x)))"
   ]
  },
  {
   "cell_type": "code",
   "execution_count": 32,
   "metadata": {},
   "outputs": [
    {
     "data": {
      "text/latex": [
       "$\\displaystyle \\frac{\\tan{\\left(x \\right)}}{1 - \\sec{\\left(x \\right)}}$"
      ],
      "text/plain": [
       "tan(x)/(1 - sec(x))"
      ]
     },
     "execution_count": 32,
     "metadata": {},
     "output_type": "execute_result"
    }
   ],
   "source": [
    "(tan(x))/(1-sec(x))"
   ]
  },
  {
   "cell_type": "code",
   "execution_count": 33,
   "metadata": {},
   "outputs": [
    {
     "data": {
      "text/latex": [
       "$\\displaystyle \\frac{\\tan^{2}{\\left(x \\right)} + 1}{1 - \\sec{\\left(x \\right)}} + \\frac{\\tan^{2}{\\left(x \\right)} \\sec{\\left(x \\right)}}{\\left(1 - \\sec{\\left(x \\right)}\\right)^{2}}$"
      ],
      "text/plain": [
       "(tan(x)**2 + 1)/(1 - sec(x)) + tan(x)**2*sec(x)/(1 - sec(x))**2"
      ]
     },
     "execution_count": 33,
     "metadata": {},
     "output_type": "execute_result"
    }
   ],
   "source": [
    "smp.diff((tan(x))/(1-sec(x)))"
   ]
  },
  {
   "cell_type": "code",
   "execution_count": 35,
   "metadata": {},
   "outputs": [
    {
     "data": {
      "text/latex": [
       "$\\displaystyle \\frac{1 - \\cot{\\left(x \\right)}}{\\cot{\\left(x \\right)} + 1}$"
      ],
      "text/plain": [
       "(1 - cot(x))/(cot(x) + 1)"
      ]
     },
     "execution_count": 35,
     "metadata": {},
     "output_type": "execute_result"
    }
   ],
   "source": [
    "(1-cot(x))/(1+cot(x))"
   ]
  },
  {
   "cell_type": "code",
   "execution_count": 36,
   "metadata": {},
   "outputs": [
    {
     "data": {
      "text/latex": [
       "$\\displaystyle \\frac{\\left(1 - \\cot{\\left(x \\right)}\\right) \\left(\\cot^{2}{\\left(x \\right)} + 1\\right)}{\\left(\\cot{\\left(x \\right)} + 1\\right)^{2}} + \\frac{\\cot^{2}{\\left(x \\right)} + 1}{\\cot{\\left(x \\right)} + 1}$"
      ],
      "text/plain": [
       "(1 - cot(x))*(cot(x)**2 + 1)/(cot(x) + 1)**2 + (cot(x)**2 + 1)/(cot(x) + 1)"
      ]
     },
     "execution_count": 36,
     "metadata": {},
     "output_type": "execute_result"
    }
   ],
   "source": [
    "smp.diff((1-cot(x))/(1+cot(x)))"
   ]
  },
  {
   "cell_type": "code",
   "execution_count": 37,
   "metadata": {},
   "outputs": [
    {
     "data": {
      "text/latex": [
       "$\\displaystyle \\left(\\csc{\\left(x \\right)} + 1\\right) \\cos{\\left(x \\right)}$"
      ],
      "text/plain": [
       "(csc(x) + 1)*cos(x)"
      ]
     },
     "execution_count": 37,
     "metadata": {},
     "output_type": "execute_result"
    }
   ],
   "source": [
    "cos(x)*(1+csc(x))"
   ]
  },
  {
   "cell_type": "code",
   "execution_count": 38,
   "metadata": {},
   "outputs": [
    {
     "data": {
      "text/latex": [
       "$\\displaystyle - \\left(\\csc{\\left(x \\right)} + 1\\right) \\sin{\\left(x \\right)} - \\cos{\\left(x \\right)} \\cot{\\left(x \\right)} \\csc{\\left(x \\right)}$"
      ],
      "text/plain": [
       "-(csc(x) + 1)*sin(x) - cos(x)*cot(x)*csc(x)"
      ]
     },
     "execution_count": 38,
     "metadata": {},
     "output_type": "execute_result"
    }
   ],
   "source": [
    "smp.diff(cos(x)*(1+csc(x)))"
   ]
  },
  {
   "cell_type": "code",
   "execution_count": 5,
   "metadata": {},
   "outputs": [
    {
     "data": {
      "text/latex": [
       "$\\displaystyle - \\sin^{2}{\\left(x \\right)} + \\cos^{2}{\\left(x \\right)}$"
      ],
      "text/plain": [
       "-sin(x)**2 + cos(x)**2"
      ]
     },
     "execution_count": 5,
     "metadata": {},
     "output_type": "execute_result"
    }
   ],
   "source": [
    "smp.diff(sin(x)*cos(x))"
   ]
  },
  {
   "cell_type": "code",
   "execution_count": 7,
   "metadata": {},
   "outputs": [
    {
     "data": {
      "text/latex": [
       "$\\displaystyle 1 - 0.5 \\cos{\\left(x \\right)}$"
      ],
      "text/plain": [
       "1 - 0.5*cos(x)"
      ]
     },
     "execution_count": 7,
     "metadata": {},
     "output_type": "execute_result"
    }
   ],
   "source": [
    "smp.diff(x-1/2*sin(x))"
   ]
  },
  {
   "cell_type": "code",
   "execution_count": 9,
   "metadata": {},
   "outputs": [
    {
     "data": {
      "text/latex": [
       "$\\displaystyle \\tan^{2}{\\left(x \\right)} + 1 - \\frac{1}{x^{2}}$"
      ],
      "text/plain": [
       "tan(x)**2 + 1 - 1/x**2"
      ]
     },
     "execution_count": 9,
     "metadata": {},
     "output_type": "execute_result"
    }
   ],
   "source": [
    "smp.diff(1/x+tan(x))"
   ]
  },
  {
   "cell_type": "code",
   "execution_count": 11,
   "metadata": {},
   "outputs": [
    {
     "data": {
      "text/latex": [
       "$\\displaystyle - 2 \\cot{\\left(x \\right)} \\csc{\\left(x \\right)}$"
      ],
      "text/plain": [
       "-2*cot(x)*csc(x)"
      ]
     },
     "execution_count": 11,
     "metadata": {},
     "output_type": "execute_result"
    }
   ],
   "source": [
    "smp.diff(2*csc(x))"
   ]
  },
  {
   "cell_type": "code",
   "execution_count": 13,
   "metadata": {},
   "outputs": [
    {
     "ename": "TypeError",
     "evalue": "unsupported operand type(s) for ** or pow(): 'FunctionClass' and 'int'",
     "output_type": "error",
     "traceback": [
      "\u001b[1;31m---------------------------------------------------------------------------\u001b[0m",
      "\u001b[1;31mTypeError\u001b[0m                                 Traceback (most recent call last)",
      "\u001b[1;32md:\\MATKUL\\KALKULUS\\TURUNAN DGN SYMPY\\kal 175-184.ipynb Cell 27\u001b[0m in \u001b[0;36m<cell line: 1>\u001b[1;34m()\u001b[0m\n\u001b[1;32m----> <a href='vscode-notebook-cell:/d%3A/MATKUL/KALKULUS/TURUNAN%20DGN%20SYMPY/kal%20175-184.ipynb#X35sZmlsZQ%3D%3D?line=0'>1</a>\u001b[0m (sec\u001b[39m*\u001b[39;49m\u001b[39m*\u001b[39;49m\u001b[39m2\u001b[39;49m)(x)\n",
      "\u001b[1;31mTypeError\u001b[0m: unsupported operand type(s) for ** or pow(): 'FunctionClass' and 'int'"
     ]
    }
   ],
   "source": [
    "(sec**2)(x)"
   ]
  },
  {
   "cell_type": "code",
   "execution_count": null,
   "metadata": {},
   "outputs": [],
   "source": []
  }
 ],
 "metadata": {
  "kernelspec": {
   "display_name": "Python 3.10.6 64-bit",
   "language": "python",
   "name": "python3"
  },
  "language_info": {
   "codemirror_mode": {
    "name": "ipython",
    "version": 3
   },
   "file_extension": ".py",
   "mimetype": "text/x-python",
   "name": "python",
   "nbconvert_exporter": "python",
   "pygments_lexer": "ipython3",
   "version": "3.10.6"
  },
  "orig_nbformat": 4,
  "vscode": {
   "interpreter": {
    "hash": "f2ccb58c476f33ba3e3aee7ac07234ef6b8217ef24ad64d2a7d4fed1a57c1cd2"
   }
  }
 },
 "nbformat": 4,
 "nbformat_minor": 2
}
